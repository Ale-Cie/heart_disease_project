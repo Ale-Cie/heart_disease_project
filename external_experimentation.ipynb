{
 "cells": [
  {
   "cell_type": "markdown",
   "metadata": {},
   "source": [
    "# <b><h1>External Experimentation</h1></b>\n",
    "\n",
    "This is an extension of the `heart_disease_project_2.ipynb` notebook which you can see <a href=\"https://github.com/Ale-Cie/heart_disease_project/blob/main/heart_disease_project_2.ipynb\">here</a>. In this one however I will focus solely on training multiple networks and seeing the results. My goal is to find the best replacement for the baseline network that looks like the graph below:\n",
    "\n",
    "<img src=\"https://aleksanderc.pythonanywhere.com/static/images/Projects/Notebooks/hdp_blueprint.png\" style=\"width: 400px\">\n",
    "\n",
    "I will train it shortly, just so I can compare to the rest later. First things first - I have to import the tools."
   ]
  },
  {
   "cell_type": "markdown",
   "metadata": {},
   "source": [
    "## Importing the tools and setting up the data\n",
    "\n",
    "Just like in the origin notebook we have to import all the tools and then divide the data into train and test sets"
   ]
  },
  {
   "cell_type": "code",
   "execution_count": 1,
   "metadata": {},
   "outputs": [],
   "source": [
    "import tensorflow as tf\n",
    "import keras\n",
    "import numpy as np\n",
    "import pandas as pd\n",
    "import matplotlib.pyplot as plt\n",
    "import warnings\n",
    "\n",
    "from sklearn.model_selection import train_test_split\n",
    "\n",
    "import funcs\n",
    "\n",
    "warnings.filterwarnings(\"ignore\")\n",
    "layers = tf.keras.layers"
   ]
  },
  {
   "cell_type": "code",
   "execution_count": 2,
   "metadata": {},
   "outputs": [],
   "source": [
    "funcs.set_seed()\n",
    "\n",
    "df = pd.read_csv(\"heart_cleveland_upload.csv\")\n",
    "\n",
    "X = df.drop([\"condition\"], axis= 1)\n",
    "y = df[\"condition\"]\n",
    "\n",
    "X_train, X_test, y_train, y_test = train_test_split(X, y, test_size=0.3)\n",
    "\n",
    "input_shape = [X_train.shape[1]]\n",
    "data_sets = [X_train, X_test, y_train, y_test]\n",
    "\n",
    "early_stopping = tf.keras.callbacks.EarlyStopping(\n",
    "    monitor= \"val_loss\",\n",
    "    patience= 5,\n",
    "    restore_best_weights= True\n",
    ")\n",
    "\n",
    "reduce_lr = tf.keras.callbacks.ReduceLROnPlateau(\n",
    "    monitor= \"val_loss\",\n",
    "    factor= 0.1,\n",
    "    min_lr= 0.001,\n",
    "    patience= 5\n",
    ")\n",
    "\n",
    "callbacks = [early_stopping, reduce_lr]"
   ]
  },
  {
   "cell_type": "markdown",
   "metadata": {},
   "source": [
    "## Model 1 - The baseline\n",
    "\n",
    "It's time to recreate the baseline model and compare it at the end to all others"
   ]
  },
  {
   "cell_type": "code",
   "execution_count": 3,
   "metadata": {},
   "outputs": [
    {
     "name": "stdout",
     "output_type": "stream",
     "text": [
      "Metal device set to: Apple M1\n",
      "\n",
      "systemMemory: 8.00 GB\n",
      "maxCacheSize: 2.67 GB\n",
      "\n"
     ]
    },
    {
     "name": "stderr",
     "output_type": "stream",
     "text": [
      "2023-08-25 11:38:05.542855: W tensorflow/tsl/platform/profile_utils/cpu_utils.cc:128] Failed to get CPU frequency: 0 Hz\n"
     ]
    },
    {
     "name": "stdout",
     "output_type": "stream",
     "text": [
      "5/5 [==============================] - 0s 5ms/step\n",
      "Model_1 accuracy score is: 84.444%\n"
     ]
    }
   ],
   "source": [
    "funcs.set_seed()\n",
    "\n",
    "model_1 = keras.Sequential([\n",
    "   layers.BatchNormalization(\n",
    "      input_shape= input_shape,\n",
    "      ),\n",
    "   layers.Dense(\n",
    "       units= 10,\n",
    "       activation= \"relu\",\n",
    "   ),\n",
    "   layers.Dropout(\n",
    "       rate= 0.3,\n",
    "   ),\n",
    "   layers.Dense(\n",
    "       units= 1,\n",
    "       activation= \"sigmoid\",\n",
    "   )\n",
    "])\n",
    "\n",
    "model_1_params = (10, 0.3)\n",
    "\n",
    "model_1.compile(\n",
    "    optimizer= \"adam\",\n",
    "    loss= \"binary_crossentropy\",\n",
    "    metrics= [\"binary_accuracy\"]\n",
    ")\n",
    "\n",
    "model_1.fit(\n",
    "    x= X_train,\n",
    "    y= y_train,\n",
    "    validation_split= 0.25,\n",
    "    batch_size= 20,\n",
    "    epochs= 200,\n",
    "    callbacks= callbacks,\n",
    "    verbose= False\n",
    ")\n",
    "\n",
    "score_1 = funcs.score_model(\n",
    "    predictions= model_1.predict(\n",
    "        x= X_test,\n",
    "        batch_size= 20,\n",
    "        verbose= True,\n",
    "    ),\n",
    "    true_values= y_test\n",
    ")\n",
    "\n",
    "funcs.close_session()\n",
    "\n",
    "print(\"Model_1 accuracy score is: %.3f\" %(score_1 * 100) + \"%\")"
   ]
  },
  {
   "cell_type": "markdown",
   "metadata": {},
   "source": [
    "## Round #2 - Expanding the network\n",
    "\n",
    "Just like in the `heart_disease_project_2.ipynb` the first network performed quite well, but it doesn't change the fact that I can still try and get a better result. Firstly I'll start with experimenting with the current look of the network. We will up the number of units for the first hidden layer from 10 to 13 (the number of features). Maybe we will experiment with some more numbers. \n",
    "\n",
    "At a later stage I will add some more layers to the network and see if they boost performance in any significant way. Let's begin!\n",
    "\n",
    "### Model 2 - More units:"
   ]
  },
  {
   "cell_type": "code",
   "execution_count": 4,
   "metadata": {},
   "outputs": [
    {
     "name": "stdout",
     "output_type": "stream",
     "text": [
      "5/5 [==============================] - 0s 5ms/step\n",
      "Model_2 accuracy score is: 82.222%\n"
     ]
    }
   ],
   "source": [
    "funcs.set_seed()\n",
    "\n",
    "model_2 = keras.Sequential([\n",
    "    layers.BatchNormalization(\n",
    "        input_shape = input_shape,\n",
    "    ),\n",
    "    layers.Dense(\n",
    "        units= 13,\n",
    "        activation= \"relu\",\n",
    "    ),\n",
    "    layers.Dropout(\n",
    "        rate= 0.3,\n",
    "    ),\n",
    "    layers.Dense(\n",
    "        units= 1,\n",
    "        activation= \"sigmoid\",\n",
    "    )\n",
    "])\n",
    "\n",
    "model_2_params = (13, 0.3)\n",
    "\n",
    "model_2.compile(\n",
    "    optimizer= \"adam\",\n",
    "    loss= \"binary_crossentropy\",\n",
    "    metrics= [\"binary_accuracy\"]\n",
    ")\n",
    "\n",
    "model_2.fit(\n",
    "    x= X_train,\n",
    "    y= y_train,\n",
    "    validation_split= 0.25,\n",
    "    batch_size= 20,\n",
    "    epochs= 200,\n",
    "    callbacks= callbacks,\n",
    "    verbose= False,\n",
    "    \n",
    ")\n",
    "\n",
    "score_2 = funcs.score_model(\n",
    "    predictions= model_2.predict(\n",
    "        x= X_test,\n",
    "        batch_size= 20,\n",
    "        verbose= True\n",
    "    ),\n",
    "    true_values= y_test\n",
    ")\n",
    "\n",
    "funcs.close_session()\n",
    "\n",
    "print(\"Model_2 accuracy score is: %.3f\" %(score_2 * 100) + \"%\")"
   ]
  },
  {
   "cell_type": "markdown",
   "metadata": {},
   "source": [
    "This left us with a model that performed worse than the first iteration... Not good. Maybe experimenting more with the units could help, but for now let's add another Dense Layer and see how that does.\n",
    "\n",
    "### Model 3 - A new layer:"
   ]
  },
  {
   "cell_type": "code",
   "execution_count": 5,
   "metadata": {},
   "outputs": [
    {
     "name": "stdout",
     "output_type": "stream",
     "text": [
      "5/5 [==============================] - 0s 3ms/step\n",
      "Model_3 accuracy score is: 77.778%\n"
     ]
    }
   ],
   "source": [
    "funcs.set_seed()\n",
    "\n",
    "model_3 = keras.Sequential([\n",
    "    layers.BatchNormalization(\n",
    "        input_shape= input_shape,\n",
    "    ),\n",
    "    layers.Dense(\n",
    "        units= 13,\n",
    "        activation= \"relu\",\n",
    "    ),\n",
    "    layers.Dense(\n",
    "        units= 10,\n",
    "        activation= \"relu\",\n",
    "    ),\n",
    "    layers.Dropout(\n",
    "        rate= 0.3,\n",
    "    ),\n",
    "    layers.Dense(\n",
    "        units= 1,\n",
    "        activation= \"sigmoid\",\n",
    "    )\n",
    "])\n",
    "\n",
    "model_3_params = (13, 10, 0.3)\n",
    "\n",
    "model_3.compile(\n",
    "    optimizer= \"adam\",\n",
    "    loss= \"binary_crossentropy\",\n",
    "    metrics= [\"binary_accuracy\"],\n",
    ")\n",
    "\n",
    "model_3.fit(\n",
    "    x= X_train,\n",
    "    y= y_train,\n",
    "    validation_split= 0.25,\n",
    "    batch_size= 20,\n",
    "    epochs= 200,\n",
    "    callbacks= callbacks,\n",
    "    verbose = False\n",
    ")\n",
    "\n",
    "score_3 = funcs.score_model(\n",
    "    predictions= model_3.predict(\n",
    "        x= X_test,\n",
    "        batch_size= 20,\n",
    "        verbose= True\n",
    "    ),\n",
    "    true_values= y_test\n",
    ")\n",
    "\n",
    "funcs.close_session()\n",
    "\n",
    "print(\"Model_3 accuracy score is: %.3f\" %(score_3 * 100) + \"%\")"
   ]
  },
  {
   "cell_type": "markdown",
   "metadata": {},
   "source": [
    "#### Model 3.1 - Changing the rates:"
   ]
  },
  {
   "cell_type": "markdown",
   "metadata": {},
   "source": [
    "Originally `model_3` had units1 set to 13, units2 to 10 and rate1 to 0.3. Just like before we will try 5 different combinations close to the original settings"
   ]
  },
  {
   "cell_type": "code",
   "execution_count": 6,
   "metadata": {},
   "outputs": [
    {
     "name": "stdout",
     "output_type": "stream",
     "text": [
      "Scoring model 1/5\n",
      "5/5 [==============================] - 0s 8ms/step\n",
      "Scoring model 2/5\n",
      "5/5 [==============================] - 0s 4ms/step\n",
      "Scoring model 3/5\n",
      "5/5 [==============================] - 0s 4ms/step\n",
      "Scoring model 4/5\n",
      "5/5 [==============================] - 0s 4ms/step\n",
      "Scoring model 5/5\n",
      "5/5 [==============================] - 0s 3ms/step\n",
      "Done scoring!\n",
      "Model_1 accuracy equals: 77.77777777777779%\n",
      "Model_2 accuracy equals: 77.77777777777779%\n",
      "Model_3 accuracy equals: 80.0%\n",
      "Model_4 accuracy equals: 80.0%\n",
      "Model_5 accuracy equals: 77.77777777777779%\n"
     ]
    }
   ],
   "source": [
    "funcs.set_seed()\n",
    "funcs.close_session()\n",
    "\n",
    "net_3_params = [\n",
    "    (13, 10, 0.35),\n",
    "    (13, 10, 0.4),\n",
    "    (13, 10, 0.45),\n",
    "    (13, 10, 0.25),\n",
    "    (13, 10, 0.2)\n",
    "]\n",
    "\n",
    "network_3_dict = funcs.network_dict(\n",
    "    input_shape= input_shape,\n",
    "    params_list= net_3_params,\n",
    "    callbacks= callbacks,\n",
    "    data= data_sets,\n",
    "    iteration= 3\n",
    ")\n",
    "\n",
    "for key, value in network_3_dict.items():\n",
    "    print(f\"{key} accuracy equals: {value[1]}%\")"
   ]
  },
  {
   "cell_type": "markdown",
   "metadata": {},
   "source": [
    "Well that's a great score for the third set of parameters! I think we will stick with it for any further testing. Let's now attempt to change the structure of the network a little bit. Let's make it look like this:\n",
    "\n",
    "<img src=\"https://aleksanderc.pythonanywhere.com/static/images/Projects/Notebooks/hdp_blueprint_2.png\" style=\"width: 450px\"/>\n",
    "\n",
    "That's a long picture, but the point is I will mix the structure up by adding a new `BatchNormalization()` layer and a few new Dense and Dropout layers.\n",
    "\n",
    "### Model 4 - A mixup:"
   ]
  },
  {
   "cell_type": "code",
   "execution_count": 7,
   "metadata": {},
   "outputs": [
    {
     "name": "stdout",
     "output_type": "stream",
     "text": [
      "5/5 [==============================] - 0s 8ms/step\n",
      "Model_4 accuracy score is: 80.000%\n"
     ]
    }
   ],
   "source": [
    "funcs.set_seed()\n",
    "\n",
    "model_4 = keras.Sequential([\n",
    "    layers.BatchNormalization(\n",
    "        input_shape= input_shape,\n",
    "    ),\n",
    "    layers.Dense(\n",
    "        units= 13,\n",
    "        activation= \"relu\",\n",
    "    ),\n",
    "    layers.Dropout(\n",
    "        rate= 0.3,\n",
    "    ),\n",
    "    layers.BatchNormalization(\n",
    "    ),\n",
    "    layers.Dense(\n",
    "        units= 10,\n",
    "        activation= \"relu\",\n",
    "    ),\n",
    "    layers.Dropout(\n",
    "        rate= 0.2,\n",
    "    ),\n",
    "    layers.Dense(\n",
    "        units= 7,\n",
    "        activation= \"relu\",\n",
    "    ),\n",
    "    layers.Dropout(\n",
    "        rate= 0.3,\n",
    "    ),\n",
    "    layers.Dense(\n",
    "        units= 1,\n",
    "        activation= \"sigmoid\",\n",
    "    )\n",
    "])\n",
    "\n",
    "model_4_params = (13, 10, 7, 0.3, 0.2, 0.3)\n",
    "\n",
    "model_4.compile(\n",
    "    optimizer= \"adam\",\n",
    "    loss= \"binary_crossentropy\",\n",
    "    metrics= [\"binary_accuracy\"]\n",
    ")\n",
    "\n",
    "model_4.fit(\n",
    "    x= X_train,\n",
    "    y= y_train,\n",
    "    validation_split= 0.25,\n",
    "    batch_size= 20,\n",
    "    epochs= 200,\n",
    "    callbacks= callbacks,\n",
    "    verbose= False\n",
    ")\n",
    "\n",
    "score_4 = funcs.score_model(\n",
    "    predictions= model_4.predict(\n",
    "        x= X_test,\n",
    "        batch_size= 20\n",
    "    ),\n",
    "    true_values= y_test\n",
    ")\n",
    "\n",
    "funcs.close_session()\n",
    "\n",
    "print(\"Model_4 accuracy score is: %.3f\" %(score_4 * 100) + \"%\")"
   ]
  },
  {
   "cell_type": "markdown",
   "metadata": {},
   "source": [
    "Okay, I have to admit something - I though I had it all figured out. I made predictions on this setup of layers earlier, before making this notebook and I hate to admit it, but `model_4` did worse than that for whatever reason. It originally scored at 77.778 % and my opinion was to scrap it. However now that we have such a close match to the baseline I think I should train this network with different units and rate values...\n",
    "\n",
    "#### Model 4.1 - Multiple takes on units and rates"
   ]
  },
  {
   "cell_type": "code",
   "execution_count": 8,
   "metadata": {},
   "outputs": [
    {
     "name": "stdout",
     "output_type": "stream",
     "text": [
      "Scoring model 1/5\n",
      "5/5 [==============================] - 0s 7ms/step\n",
      "Scoring model 2/5\n",
      "5/5 [==============================] - 0s 7ms/step\n",
      "Scoring model 3/5\n",
      "5/5 [==============================] - 0s 6ms/step\n",
      "Scoring model 4/5\n",
      "5/5 [==============================] - 0s 6ms/step\n",
      "Scoring model 5/5\n",
      "5/5 [==============================] - 0s 7ms/step\n",
      "Done scoring!\n",
      "Model_1 accuracy equals: 80.000%\n",
      "Model_2 accuracy equals: 80.000%\n",
      "Model_3 accuracy equals: 80.000%\n",
      "Model_4 accuracy equals: 81.111%\n",
      "Model_5 accuracy equals: 80.000%\n"
     ]
    }
   ],
   "source": [
    "funcs.set_seed()\n",
    "funcs.close_session()\n",
    "\n",
    "net_4_params = [\n",
    "    (13, 10, 7, 0.3, 0.3, 0.3), # This is the baseline for this network\n",
    "    (13, 10, 7, 0.3, 0.3, 0.2),\n",
    "    (13, 10, 7, 0.2, 0.3, 0.3),\n",
    "    (13, 10, 7, 0.4, 0.3, 0.2),\n",
    "    (13, 10, 7, 0.4, 0.3, 0.3)\n",
    "]\n",
    "\n",
    "network_4_dict = funcs.network_dict(\n",
    "    input_shape= input_shape,\n",
    "    params_list= net_4_params,\n",
    "    callbacks= callbacks,\n",
    "    data= data_sets,\n",
    "    iteration= 4\n",
    ")\n",
    "\n",
    "for key, value in network_4_dict.items():\n",
    "    print(\"{} accuracy equals: {:.3f}%\".format(key, value[1]))"
   ]
  },
  {
   "cell_type": "markdown",
   "metadata": {},
   "source": [
    "That's consistency if I've ever seen one. However 4th set of parameters did best, and better than the stock model at that!"
   ]
  },
  {
   "cell_type": "markdown",
   "metadata": {},
   "source": [
    "## Summary of Experimentation"
   ]
  },
  {
   "cell_type": "code",
   "execution_count": 9,
   "metadata": {},
   "outputs": [
    {
     "data": {
      "image/png": "[encoded data removed]",
      "text/plain": [
       "<Figure size 640x480 with 1 Axes>"
      ]
     },
     "metadata": {},
     "output_type": "display_data"
    }
   ],
   "source": [
    "scores_dict = {\n",
    "    \"Model 1\": (score_1 * 100),\n",
    "    \"Model 2\": (score_2 * 100),\n",
    "    \"Model 3\": (score_3 * 100),\n",
    "    \"Model 3.1\": np.max([(value[1]) for value in network_3_dict.values()]),\n",
    "    \"Model 4\": (score_4 * 100),\n",
    "    \"Model 4.1\": np.max([(value[1]) for value in network_4_dict.values()])\n",
    "}\n",
    "\n",
    "fig, ax = plt.subplots()\n",
    "ax.bar(\n",
    "    x= [key for key in scores_dict.keys()],\n",
    "    height= [score for score in scores_dict.values()],\n",
    "    color= \"tab:green\"\n",
    ")\n",
    "ax.set_title(\"Accuracy scores of each trained model\")\n",
    "ax.set_ylabel(\"Accuracy (%)\")\n",
    "ax.set_xlabel(\"Scored Model\")\n",
    "ax.set_ylim(bottom=0, top=100)\n",
    "plt.axhline(y=np.mean([value for value in scores_dict.values()]), color=\"tab:orange\", linestyle=\"--\")\n",
    "ax.text(\n",
    "    x= -1.35,\n",
    "    y= np.mean([value for value in scores_dict.values()]),\n",
    "    s= \"%.3f\" % np.mean([value for value in scores_dict.values()]),\n",
    "    fontdict= {\"color\": \"tab:orange\"}\n",
    ")\n",
    "for container in ax.containers:\n",
    "    ax.bar_label(container)\n",
    "\n"
   ]
  },
  {
   "cell_type": "markdown",
   "metadata": {},
   "source": [
    "This simplistic graph shows us that the mean value (dashed in orange) was around 80%, so we can clearly rule out `model_3`, `model_3_1` and `model_4`. Since I think it will be best to focus on only three models in the <a href=\"https://github.com/Ale-Cie/heart_disease_project/blob/main/heart_disease_project_2.ipynb\">original notebook</a> I will carry over networks listed below. \n",
    "\n",
    "I know we should probably explore some more metrics like ROC curve and AUC. Maybe some heatmaps and coefficients, but let's just leave it like that for now.\n",
    "\n",
    "To sum up. We are going to carry over:\n",
    "- `model_1`\n",
    "- `model_2`\n",
    "- `model_4_1`\n",
    "\n",
    "Here are their parameters:"
   ]
  },
  {
   "cell_type": "code",
   "execution_count": 10,
   "metadata": {},
   "outputs": [
    {
     "name": "stdout",
     "output_type": "stream",
     "text": [
      "Model_1 params are: (10, 0.3)\n",
      "Model_2 params are: (13, 0.3)\n",
      "Model_4_1 best params are: (13, 10, 7, 0.2, 0.3, 0.3)\n"
     ]
    }
   ],
   "source": [
    "model_4_1_best_params = net_4_params[np.argmax([value[1] for value in network_3_dict.values()])]\n",
    "print(f\"Model_1 params are: {model_1_params}\")\n",
    "print(f\"Model_2 params are: {model_2_params}\")\n",
    "print(f\"Model_4_1 best params are: {model_4_1_best_params}\")\n"
   ]
  },
  {
   "cell_type": "code",
   "execution_count": 11,
   "metadata": {},
   "outputs": [],
   "source": [
    "funcs.save_network(\n",
    "    model= network_4_dict[\"Model_4\"][0],\n",
    "    name= \"model_v4_1\"\n",
    ")\n",
    "\n",
    "funcs.save_network(\n",
    "    model= model_2,\n",
    "    name= \"model_v2\"\n",
    ")\n",
    "\n",
    "with open(\"./model_params.txt\", \"a+\") as file:\n",
    "    for line in [f\"model_1_params: {model_1_params}\\n\", f\"model_2_params: {model_2_params}\\n\", f\"model_4_1_best_params: {model_4_1_best_params}\\n\"]:\n",
    "        file.writelines(line)"
   ]
  },
  {
   "cell_type": "markdown",
   "metadata": {},
   "source": [
    "That's how we've reached the end of this notebook. Back to the OG one."
   ]
  }
 ],
 "metadata": {
  "kernelspec": {
   "display_name": "DL-env",
   "language": "python",
   "name": "python3"
  },
  "language_info": {
   "codemirror_mode": {
    "name": "ipython",
    "version": 3
   },
   "file_extension": ".py",
   "mimetype": "text/x-python",
   "name": "python",
   "nbconvert_exporter": "python",
   "pygments_lexer": "ipython3",
   "version": "3.11.3"
  },
  "orig_nbformat": 4
 },
 "nbformat": 4,
 "nbformat_minor": 2
}
